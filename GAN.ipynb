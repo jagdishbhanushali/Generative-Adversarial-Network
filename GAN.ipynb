{
 "cells": [
  {
   "cell_type": "markdown",
   "metadata": {},
   "source": [
    "# Generative Adversarial Network using Keras"
   ]
  },
  {
   "cell_type": "code",
   "execution_count": 1,
   "metadata": {
    "collapsed": false
   },
   "outputs": [
    {
     "name": "stderr",
     "output_type": "stream",
     "text": [
      "Using TensorFlow backend.\n"
     ]
    }
   ],
   "source": [
    "from keras.datasets import mnist\n",
    "from keras.layers import Conv2D,Dense,Dropout,Flatten,Input,Reshape,UpSampling2D\n",
    "import matplotlib.pyplot as plt\n",
    "import numpy as np\n",
    "from keras.models import Model, Sequential\n",
    "from keras.layers.advanced_activations import LeakyReLU\n",
    "from tqdm import tqdm_notebook as tqdm,trange\n",
    "from keras.optimizers import Adam\n",
    "import time\n",
    "import sys\n",
    "import os"
   ]
  },
  {
   "cell_type": "code",
   "execution_count": 2,
   "metadata": {
    "collapsed": true
   },
   "outputs": [],
   "source": [
    "np.random.seed(1000)"
   ]
  },
  {
   "cell_type": "code",
   "execution_count": 3,
   "metadata": {
    "collapsed": true
   },
   "outputs": [],
   "source": [
    "(x_train,y_train),(x_test,y_test)=mnist.load_data()"
   ]
  },
  {
   "cell_type": "markdown",
   "metadata": {},
   "source": [
    "## Loading input"
   ]
  },
  {
   "cell_type": "code",
   "execution_count": 4,
   "metadata": {
    "collapsed": true
   },
   "outputs": [],
   "source": [
    "input_dim_generator=100"
   ]
  },
  {
   "cell_type": "code",
   "execution_count": 5,
   "metadata": {
    "collapsed": true
   },
   "outputs": [],
   "source": [
    "x_train=(x_train.astype(np.float32)-127.5)/127.5\n",
    "x_train=x_train.reshape(-1,28,28,1)"
   ]
  },
  {
   "cell_type": "markdown",
   "metadata": {},
   "source": [
    "## Creating model"
   ]
  },
  {
   "cell_type": "markdown",
   "metadata": {},
   "source": [
    "![title](images/GAN.png)"
   ]
  },
  {
   "cell_type": "code",
   "execution_count": 6,
   "metadata": {
    "collapsed": true
   },
   "outputs": [],
   "source": [
    "def create_model():\n",
    "    adam = Adam(lr=0.0002, beta_1=0.5)\n",
    "\n",
    "    #Generator network\n",
    "    generator=Sequential()\n",
    "    generator.add(Dense(128*7*7,input_shape=[input_dim_generator]))\n",
    "    generator.add(LeakyReLU(0.2))\n",
    "    generator.add(Reshape((7,7,128)))\n",
    "    generator.add(UpSampling2D(size=(2,2)))\n",
    "    generator.add(Conv2D(64, kernel_size=(5, 5), padding='same'))\n",
    "    generator.add(LeakyReLU(0.2))\n",
    "    generator.add(UpSampling2D(size=(2, 2)))\n",
    "    generator.add(Conv2D(1, kernel_size=(5, 5), padding='same', activation='tanh'))\n",
    "    generator.compile(loss=\"binary_crossentropy\",optimizer='adam')\n",
    "    generator.summary()\n",
    "    \n",
    "    #Descriminator Network\n",
    "    discriminator=Sequential()\n",
    "    discriminator.add(Conv2D(64,(5,5),input_shape=(28,28,1)))\n",
    "    discriminator.add(LeakyReLU())\n",
    "    discriminator.add(Conv2D(128,(5,5)))\n",
    "    discriminator.add(LeakyReLU())\n",
    "    discriminator.add(Dropout(0.3))\n",
    "    discriminator.add(Flatten())\n",
    "    discriminator.add(Dense(1,activation='sigmoid'))\n",
    "    discriminator.compile(loss='binary_crossentropy',optimizer='adam')\n",
    "    discriminator.summary()\n",
    "\n",
    "    #Combining both networks\n",
    "    gan_input=Input(shape=[input_dim_generator])\n",
    "    middle_output=generator(gan_input)\n",
    "    gan_output=discriminator(middle_output)\n",
    "    gan_model=Model(inputs=gan_input,outputs=gan_output)\n",
    "    gan_model.compile(loss=\"binary_crossentropy\",optimizer=adam)\n",
    "    \n",
    "    gan_model.summary()\n",
    "    return generator,discriminator,gan_model"
   ]
  },
  {
   "cell_type": "code",
   "execution_count": 7,
   "metadata": {
    "collapsed": true
   },
   "outputs": [],
   "source": [
    "def plot_loss(d_losses,g_losses):\n",
    "    plt.figure(figsize=(10,8))\n",
    "    plt.plot(d_losses,label=\"Discriminitve Loss\")\n",
    "    plt.plot(g_losses,label=\"Generative Loss\")\n",
    "    plt.xlabel(\"Epoch\")\n",
    "    plt.ylabel(\"Loss\")\n",
    "    plt.savefig(\"generated_images/loss_epoch\")"
   ]
  },
  {
   "cell_type": "code",
   "execution_count": 8,
   "metadata": {
    "collapsed": true
   },
   "outputs": [],
   "source": [
    "def plot_generated_images(generator,epoch_num):\n",
    "    num_examples=100\n",
    "    x_gen=np.random.normal(0,1,size=[num_examples,input_dim_generator])\n",
    "    generated_images=generator.predict(x_gen)\n",
    "    generated_images=generated_images.reshape(num_examples,28,28)\n",
    "    \n",
    "    plt.figure(figsize=(10,10))\n",
    "    for i in range(generated_images.shape[0]):\n",
    "        plt.subplot(10,10,i+1)\n",
    "        plt.imshow(generated_images[i],interpolation='nearest',cmap='gray_r')\n",
    "        plt.axis('off')\n",
    "\n",
    "    plt.tight_layout()\n",
    "    plt.savefig(\"generated_images/epoch_%d.png\"%epoch_num)"
   ]
  },
  {
   "cell_type": "code",
   "execution_count": 9,
   "metadata": {
    "collapsed": true
   },
   "outputs": [],
   "source": [
    "def train(epochs=10,batch_size=128):\n",
    "    d_losses=[]\n",
    "    g_losses=[]\n",
    "    batch_count = x_train.shape[0] // batch_size\n",
    "    \n",
    "    generator,discriminator,gan_model=create_model()\n",
    "    \n",
    "    for epoch_num in range(0,epochs+1):\n",
    "#         print(\"-\"*20,\"Epoch \",epoch_num,\"-\"*20)\n",
    "        for i in tqdm(range(batch_count),desc=\"Epoch %d\"%epoch_num):\n",
    "            noise_batch=np.random.normal(0,1,size=[batch_size,input_dim_generator])\n",
    "            image_batch=x_train[np.random.randint(0,x_train.shape[0],size=batch_size)]\n",
    "            generated_image_batch=generator.predict(noise_batch)\n",
    "            \n",
    "            x_dis=np.concatenate([image_batch,generated_image_batch])\n",
    "            y_dis=np.zeros(2*batch_size)\n",
    "            y_dis[:batch_size]=1\n",
    "            \n",
    "            discriminator.trainable=True\n",
    "            d_loss=discriminator.train_on_batch(x_dis,y_dis)\n",
    "            \n",
    "            discriminator.trainable=False\n",
    "            y_gen=np.ones(batch_size)\n",
    "            g_loss=gan_model.train_on_batch(noise_batch,y_gen)\n",
    "            \n",
    "        d_losses.append(d_loss)\n",
    "        g_losses.append(g_loss)\n",
    "        if(epoch_num%20==0):\n",
    "            plot_generated_images(generator,epoch_num)\n",
    "            \n",
    "    plot_loss(d_losses,g_losses)\n",
    "            "
   ]
  },
  {
   "cell_type": "code",
   "execution_count": 10,
   "metadata": {
    "collapsed": false,
    "scrolled": true
   },
   "outputs": [
    {
     "name": "stdout",
     "output_type": "stream",
     "text": [
      "_________________________________________________________________\n",
      "Layer (type)                 Output Shape              Param #   \n",
      "=================================================================\n",
      "dense_1 (Dense)              (None, 6272)              633472    \n",
      "_________________________________________________________________\n",
      "leaky_re_lu_1 (LeakyReLU)    (None, 6272)              0         \n",
      "_________________________________________________________________\n",
      "reshape_1 (Reshape)          (None, 7, 7, 128)         0         \n",
      "_________________________________________________________________\n",
      "up_sampling2d_1 (UpSampling2 (None, 14, 14, 128)       0         \n",
      "_________________________________________________________________\n",
      "conv2d_1 (Conv2D)            (None, 14, 14, 64)        204864    \n",
      "_________________________________________________________________\n",
      "leaky_re_lu_2 (LeakyReLU)    (None, 14, 14, 64)        0         \n",
      "_________________________________________________________________\n",
      "up_sampling2d_2 (UpSampling2 (None, 28, 28, 64)        0         \n",
      "_________________________________________________________________\n",
      "conv2d_2 (Conv2D)            (None, 28, 28, 1)         1601      \n",
      "=================================================================\n",
      "Total params: 839,937\n",
      "Trainable params: 839,937\n",
      "Non-trainable params: 0\n",
      "_________________________________________________________________\n",
      "_________________________________________________________________\n",
      "Layer (type)                 Output Shape              Param #   \n",
      "=================================================================\n",
      "conv2d_3 (Conv2D)            (None, 24, 24, 64)        1664      \n",
      "_________________________________________________________________\n",
      "leaky_re_lu_3 (LeakyReLU)    (None, 24, 24, 64)        0         \n",
      "_________________________________________________________________\n",
      "conv2d_4 (Conv2D)            (None, 20, 20, 128)       204928    \n",
      "_________________________________________________________________\n",
      "leaky_re_lu_4 (LeakyReLU)    (None, 20, 20, 128)       0         \n",
      "_________________________________________________________________\n",
      "dropout_1 (Dropout)          (None, 20, 20, 128)       0         \n",
      "_________________________________________________________________\n",
      "flatten_1 (Flatten)          (None, 51200)             0         \n",
      "_________________________________________________________________\n",
      "dense_2 (Dense)              (None, 1)                 51201     \n",
      "=================================================================\n",
      "Total params: 257,793\n",
      "Trainable params: 257,793\n",
      "Non-trainable params: 0\n",
      "_________________________________________________________________\n",
      "_________________________________________________________________\n",
      "Layer (type)                 Output Shape              Param #   \n",
      "=================================================================\n",
      "input_1 (InputLayer)         (None, 100)               0         \n",
      "_________________________________________________________________\n",
      "sequential_1 (Sequential)    (None, 28, 28, 1)         839937    \n",
      "_________________________________________________________________\n",
      "sequential_2 (Sequential)    (None, 1)                 257793    \n",
      "=================================================================\n",
      "Total params: 1,097,730\n",
      "Trainable params: 1,097,730\n",
      "Non-trainable params: 0\n",
      "_________________________________________________________________\n",
      "\n",
      "\n",
      "\n",
      "\n",
      "\n",
      "\n",
      "\n",
      "\n",
      "\n",
      "\n",
      "\n",
      "\n",
      "\n",
      "\n",
      "\n",
      "\n",
      "\n",
      "\n",
      "\n",
      "\n",
      "\n",
      "\n",
      "\n",
      "\n",
      "\n",
      "\n",
      "\n",
      "\n",
      "\n",
      "\n",
      "\n",
      "\n",
      "\n",
      "\n",
      "\n",
      "\n",
      "\n",
      "\n",
      "\n",
      "\n",
      "\n",
      "\n",
      "\n",
      "\n",
      "\n",
      "\n",
      "\n",
      "\n",
      "\n",
      "\n",
      "\n",
      "\n",
      "\n",
      "\n",
      "\n",
      "\n",
      "\n",
      "\n",
      "\n",
      "\n",
      "\n",
      "\n",
      "\n",
      "\n",
      "\n",
      "\n",
      "\n",
      "\n",
      "\n",
      "\n",
      "\n",
      "\n",
      "\n",
      "\n",
      "\n",
      "\n",
      "\n",
      "\n",
      "\n",
      "\n",
      "\n",
      "\n",
      "\n",
      "\n",
      "\n",
      "\n",
      "\n",
      "\n",
      "\n",
      "\n",
      "\n",
      "\n",
      "\n",
      "\n",
      "\n",
      "\n",
      "\n",
      "\n",
      "\n",
      "\n",
      "\n"
     ]
    }
   ],
   "source": [
    "train(100)"
   ]
  },
  {
   "cell_type": "markdown",
   "metadata": {},
   "source": [
    "# Loss\n",
    "![title](images/loss_epoch.png)"
   ]
  },
  {
   "cell_type": "code",
   "execution_count": null,
   "metadata": {
    "collapsed": true
   },
   "outputs": [],
   "source": []
  }
 ],
 "metadata": {
  "anaconda-cloud": {},
  "kernelspec": {
   "display_name": "Python [default]",
   "language": "python",
   "name": "python3"
  },
  "language_info": {
   "codemirror_mode": {
    "name": "ipython",
    "version": 3
   },
   "file_extension": ".py",
   "mimetype": "text/x-python",
   "name": "python",
   "nbconvert_exporter": "python",
   "pygments_lexer": "ipython3",
   "version": "3.5.2"
  }
 },
 "nbformat": 4,
 "nbformat_minor": 2
}
